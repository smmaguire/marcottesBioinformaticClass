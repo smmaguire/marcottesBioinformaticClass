{
 "metadata": {
  "name": "vetibri example from wikipedia"
 },
 "nbformat": 3,
 "nbformat_minor": 0,
 "worksheets": [
  {
   "cells": [
    {
     "cell_type": "code",
     "collapsed": false,
     "input": [
      "states = ('Healthy', 'Fever')\n",
      " \n",
      "observations = ('normal', 'cold', 'dizzy')\n",
      " \n",
      "start_probability = {'Healthy': 0.6, 'Fever': 0.4}\n",
      " \n",
      "transition_probability = {\n",
      "   'Healthy' : {'Healthy': 0.7, 'Fever': 0.3},\n",
      "   'Fever' : {'Healthy': 0.4, 'Fever': 0.6},\n",
      "   }\n",
      " \n",
      "emission_probability = {\n",
      "   'Healthy' : {'normal': 0.5, 'cold': 0.4, 'dizzy': 0.1},\n",
      "   'Fever' : {'normal': 0.1, 'cold': 0.3, 'dizzy': 0.6},\n",
      "   }"
     ],
     "language": "python",
     "metadata": {},
     "outputs": [],
     "prompt_number": 1
    },
    {
     "cell_type": "code",
     "collapsed": false,
     "input": [
      "def print_dptable(V):\n",
      "    print \"    \",\n",
      "    for i in range(len(V)): print \"%7d\" % i,\n",
      "    print\n",
      " \n",
      "    for y in V[0].keys():\n",
      "        print \"%.5s: \" % y,\n",
      "        for t in range(len(V)):\n",
      "            print \"%.7s\" % (\"%f\" % V[t][y]),\n",
      "        print\n",
      " \n",
      "def viterbi(obs, states, start_p, trans_p, emit_p):\n",
      "    V = [{}]\n",
      "    path = {}\n",
      " \n",
      "    # Initialize base cases (t == 0)\n",
      "    for y in states:\n",
      "        V[0][y] = start_p[y] * emit_p[y][obs[0]]\n",
      "        path[y] = [y]\n",
      " \n",
      "    # Run Viterbi for t > 0\n",
      "    for t in range(1,len(obs)):\n",
      "        V.append({})\n",
      "        newpath = {}\n",
      " \n",
      "        for y in states:\n",
      "            (prob, state) = max([(V[t-1][y0] * trans_p[y0][y] * emit_p[y][obs[t]], y0) for y0 in states])\n",
      "            V[t][y] = prob\n",
      "            newpath[y] = path[state] + [y]\n",
      " \n",
      "        # Don't need to remember the old paths\n",
      "        path = newpath\n",
      " \n",
      "    print_dptable(V)\n",
      "    (prob, state) = max([(V[len(obs) - 1][y], y) for y in states])\n",
      "    return (prob, path[state])"
     ],
     "language": "python",
     "metadata": {},
     "outputs": [],
     "prompt_number": 2
    },
    {
     "cell_type": "code",
     "collapsed": false,
     "input": [
      "def example():\n",
      "    return viterbi(observations,\n",
      "                   states,\n",
      "                   start_probability,\n",
      "                   transition_probability,\n",
      "                   emission_probability)\n",
      "print example()"
     ],
     "language": "python",
     "metadata": {},
     "outputs": [
      {
       "output_type": "stream",
       "stream": "stdout",
       "text": [
        "           0       1       2\n",
        "Healt:  0.30000 0.08400 0.00588\n",
        "Fever:  0.04000 0.02700 0.01512\n",
        "(0.01512, ['Healthy', 'Healthy', 'Fever'])\n"
       ]
      }
     ],
     "prompt_number": 3
    },
    {
     "cell_type": "code",
     "collapsed": false,
     "input": [
      "obs=observations\n",
      "start_p=start_probability\n",
      "emit_p=emission_probability\n",
      "trans_p=transition_probability\n",
      "\n",
      "V = [{}]\n",
      "path = {}\n",
      "for y in states:\n",
      "    V[0][y] = start_p[y] * emit_p[y][obs[0]]\n",
      "    path[y] = [y]\n",
      "for t in range(1,len(obs)):\n",
      "    V.append({})\n",
      "    newpath = {}\n",
      "    for y in states:\n",
      "        (prob, state) = max([(V[t-1][y0] * trans_p[y0][y] * emit_p[y][obs[t]], y0) for y0 in states]) #does the multiplication for all the states and saves only the maximum one.\n",
      "        V[t][y] = prob\n",
      "        newpath[y] = path[state] + [y]\n",
      "        print newpath[y]\n",
      "    path = newpath\n",
      " \n",
      "    #print_dptable(V)\n",
      "    (prob, state)= (max([(V[len(obs) - 1][y], y) for y in states]))\n",
      "    #print (prob,state)\n",
      "    #return (prob, path[state])"
     ],
     "language": "python",
     "metadata": {},
     "outputs": [
      {
       "ename": "IndexError",
       "evalue": "list index out of range",
       "output_type": "pyerr",
       "traceback": [
        "\u001b[0;31m---------------------------------------------------------------------------\u001b[0m\n\u001b[0;31mIndexError\u001b[0m                                Traceback (most recent call last)",
        "\u001b[0;32m<ipython-input-61-f19417f76a20>\u001b[0m in \u001b[0;36m<module>\u001b[0;34m()\u001b[0m\n\u001b[1;32m     20\u001b[0m \u001b[0;34m\u001b[0m\u001b[0m\n\u001b[1;32m     21\u001b[0m     \u001b[0;31m#print_dptable(V)\u001b[0m\u001b[0;34m\u001b[0m\u001b[0;34m\u001b[0m\u001b[0m\n\u001b[0;32m---> 22\u001b[0;31m     \u001b[0;34m(\u001b[0m\u001b[0mprob\u001b[0m\u001b[0;34m,\u001b[0m \u001b[0mstate\u001b[0m\u001b[0;34m)\u001b[0m\u001b[0;34m=\u001b[0m \u001b[0;34m(\u001b[0m\u001b[0mmax\u001b[0m\u001b[0;34m(\u001b[0m\u001b[0;34m[\u001b[0m\u001b[0;34m(\u001b[0m\u001b[0mV\u001b[0m\u001b[0;34m[\u001b[0m\u001b[0mlen\u001b[0m\u001b[0;34m(\u001b[0m\u001b[0mobs\u001b[0m\u001b[0;34m)\u001b[0m \u001b[0;34m-\u001b[0m \u001b[0;36m1\u001b[0m\u001b[0;34m]\u001b[0m\u001b[0;34m[\u001b[0m\u001b[0my\u001b[0m\u001b[0;34m]\u001b[0m\u001b[0;34m,\u001b[0m \u001b[0my\u001b[0m\u001b[0;34m)\u001b[0m \u001b[0;32mfor\u001b[0m \u001b[0my\u001b[0m \u001b[0;32min\u001b[0m \u001b[0mstates\u001b[0m\u001b[0;34m]\u001b[0m\u001b[0;34m)\u001b[0m\u001b[0;34m)\u001b[0m\u001b[0;34m\u001b[0m\u001b[0m\n\u001b[0m\u001b[1;32m     23\u001b[0m     \u001b[0;31m#print (prob,state)\u001b[0m\u001b[0;34m\u001b[0m\u001b[0;34m\u001b[0m\u001b[0m\n\u001b[1;32m     24\u001b[0m     \u001b[0;31m#return (prob, path[state])\u001b[0m\u001b[0;34m\u001b[0m\u001b[0;34m\u001b[0m\u001b[0m\n",
        "\u001b[0;31mIndexError\u001b[0m: list index out of range"
       ]
      },
      {
       "output_type": "stream",
       "stream": "stdout",
       "text": [
        "['Healthy', 'Healthy']\n",
        "['Healthy', 'Fever']\n"
       ]
      }
     ],
     "prompt_number": 61
    },
    {
     "cell_type": "code",
     "collapsed": false,
     "input": [
      "states"
     ],
     "language": "python",
     "metadata": {},
     "outputs": [
      {
       "output_type": "pyout",
       "prompt_number": 60,
       "text": [
        "('Healthy', 'Fever')"
       ]
      }
     ],
     "prompt_number": 60
    },
    {
     "cell_type": "code",
     "collapsed": false,
     "input": [],
     "language": "python",
     "metadata": {},
     "outputs": [],
     "prompt_number": 55
    },
    {
     "cell_type": "code",
     "collapsed": false,
     "input": [
      "trans_p"
     ],
     "language": "python",
     "metadata": {},
     "outputs": [
      {
       "output_type": "pyout",
       "prompt_number": 65,
       "text": [
        "{'Fever': {'Fever': 0.6, 'Healthy': 0.4},\n",
        " 'Healthy': {'Fever': 0.3, 'Healthy': 0.7}}"
       ]
      }
     ],
     "prompt_number": 65
    },
    {
     "cell_type": "code",
     "collapsed": false,
     "input": [
      "trans_p['Fever']['Healthy']"
     ],
     "language": "python",
     "metadata": {},
     "outputs": [
      {
       "output_type": "pyout",
       "prompt_number": 67,
       "text": [
        "0.4"
       ]
      }
     ],
     "prompt_number": 67
    },
    {
     "cell_type": "code",
     "collapsed": false,
     "input": [
      ".034*.34"
     ],
     "language": "python",
     "metadata": {},
     "outputs": [
      {
       "output_type": "pyout",
       "prompt_number": 79,
       "text": [
        "0.01156"
       ]
      }
     ],
     "prompt_number": 79
    },
    {
     "cell_type": "code",
     "collapsed": false,
     "input": [
      "1/8.0"
     ],
     "language": "python",
     "metadata": {},
     "outputs": [
      {
       "output_type": "pyout",
       "prompt_number": 76,
       "text": [
        "0.125"
       ]
      }
     ],
     "prompt_number": 76
    },
    {
     "cell_type": "code",
     "collapsed": false,
     "input": [],
     "language": "python",
     "metadata": {},
     "outputs": []
    }
   ],
   "metadata": {}
  }
 ]
}