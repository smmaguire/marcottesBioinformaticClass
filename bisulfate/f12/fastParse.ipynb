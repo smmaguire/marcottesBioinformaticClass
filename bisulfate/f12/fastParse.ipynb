{
 "metadata": {
  "name": "fastParse"
 },
 "nbformat": 3,
 "nbformat_minor": 0,
 "worksheets": [
  {
   "cells": [
    {
     "cell_type": "code",
     "collapsed": false,
     "input": [
      "import pandas as pd\n",
      "from pandas.io.pytables import HDFStore\n",
      "files =!ls CpG*.txt\n",
      "fullDat=pd.DataFrame()\n",
      "for nextFile in files:\n",
      "    data = pd.read_table(nextFile, header=None, skiprows=1, sep= r'\\s*')\n",
      "    data=data.ix[:,1:]\n",
      "    data=data.rename(columns={'X.2':'meth1','X.3':'chrom','X.4':'site','X.5':'meth2'})\n",
      "    grouped = data.groupby('site')\n",
      "    test2=grouped.count()\n",
      "    grouped2 =data.groupby(['meth2','site'])\n",
      "    test3= grouped2.count()\n",
      "    test4=test3.xs('Z',level='meth2')\n",
      "    test5=pd.DataFrame(test4['meth1'])\n",
      "    test6=pd.DataFrame(test2['chrom'])\n",
      "    test7=test5.join(test6)\n",
      "    test7['per_methyl']=test7['meth1'].astype(float)/(test7['chrom'])\n",
      "    test7['sample']=nextFile\n",
      "    test7=test7.rename(columns={'chrom':'coverage'})\n",
      "    test7=test7.reset_index()\n",
      "    fullDat=pd.concat([fullDat,test7])\n",
      "print fullDat.head()\n",
      "methyl = HDFStore('methylCalls.h5')\n",
      "methyl['methyl']=fullDat\n",
      "methyl.close()\n",
      "        "
     ],
     "language": "python",
     "metadata": {},
     "outputs": [
      {
       "output_type": "stream",
       "stream": "stdout",
       "text": [
        "   coverage  meth1  per_methyl                              sample  site\n",
        "0      4651   1490    0.320361  CpG_context_f12_S14_bismark_pe.txt  3022\n",
        "1      5171      1    0.000193  CpG_context_f12_S14_bismark_pe.txt  3062\n",
        "2      5260      2    0.000380  CpG_context_f12_S14_bismark_pe.txt  3071\n",
        "3      5353      2    0.000374  CpG_context_f12_S14_bismark_pe.txt  3080\n",
        "4      2425      1    0.000412  CpG_context_f12_S14_bismark_pe.txt  3131\n"
       ]
      }
     ],
     "prompt_number": 48
    },
    {
     "cell_type": "code",
     "collapsed": false,
     "input": [
      "len(fullDat)"
     ],
     "language": "python",
     "metadata": {},
     "outputs": [
      {
       "output_type": "pyout",
       "prompt_number": 147,
       "text": [
        "319"
       ]
      }
     ],
     "prompt_number": 147
    },
    {
     "cell_type": "code",
     "collapsed": false,
     "input": [
      "from random import randrange\n",
      "def getRandColors(n):\n",
      "    colorL=[]\n",
      "    for i in range(n):\n",
      "        colorL.append(\"#%s\" % \"\".join([hex(randrange(0, 255))[2:] for i in range(3)]))\n",
      "    return colorL"
     ],
     "language": "python",
     "metadata": {},
     "outputs": [],
     "prompt_number": 90
    },
    {
     "cell_type": "code",
     "collapsed": false,
     "input": [
      "getRandColors(3)"
     ],
     "language": "python",
     "metadata": {},
     "outputs": [
      {
       "output_type": "pyout",
       "prompt_number": 91,
       "text": [
        "['#425410', '#7971d0', '#fd8a14']"
       ]
      }
     ],
     "prompt_number": 91
    },
    {
     "cell_type": "code",
     "collapsed": false,
     "input": [
      "#enter number of colors\n",
      "\n",
      "plt.figure()\n",
      "colors=['y','b','g']\n",
      "colorCount=0\n",
      "for key, grp in fullDat.groupby(['sample']):\n",
      "    x=(grp['site'])\n",
      "    y=(grp['per_methyl'])\n",
      "    plt.bar(x,y,20,color=colors[colorCount],alpha=.4,edgecolor=colors[colorCount],label=key)\n",
      "    colorCount += 1\n",
      "plt.ylim([-.2,1.2])\n",
      "plt.xlim([2900,6000])\n",
      "plt.legend(loc='upper left')\n",
      "plt.xlabel('CpG site location')\n",
      "plt.ylabel('methylation percentage')"
     ],
     "language": "python",
     "metadata": {},
     "outputs": [
      {
       "output_type": "pyout",
       "prompt_number": 160,
       "text": [
        "<matplotlib.text.Text at 0x12baab650>"
       ]
      },
      {
       "output_type": "display_data",
       "png": "[encoded data removed]"
      }
     ],
     "prompt_number": 160
    },
    {
     "cell_type": "code",
     "collapsed": false,
     "input": [],
     "language": "python",
     "metadata": {},
     "outputs": [],
     "prompt_number": 156
    },
    {
     "cell_type": "code",
     "collapsed": false,
     "input": [
      "from pandas.io.pytables import HDFStore\n",
      "methyl = HDFStore('methylCalls.h5')\n",
      "methyl['methyl']=fullDat\n",
      "methyl.close()"
     ],
     "language": "python",
     "metadata": {},
     "outputs": [],
     "prompt_number": 156
    },
    {
     "cell_type": "code",
     "collapsed": false,
     "input": [],
     "language": "python",
     "metadata": {},
     "outputs": [],
     "prompt_number": 153
    },
    {
     "cell_type": "code",
     "collapsed": false,
     "input": [],
     "language": "python",
     "metadata": {},
     "outputs": []
    }
   ],
   "metadata": {}
  }
 ]
}