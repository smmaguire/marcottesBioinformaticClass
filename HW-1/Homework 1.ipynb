{
 "metadata": {
  "name": "Homework 1"
 },
 "nbformat": 3,
 "nbformat_minor": 0,
 "worksheets": [
  {
   "cells": [
    {
     "cell_type": "markdown",
     "metadata": {},
     "source": [
      "#Homework 1 \n",
      "##Sean Maguire"
     ]
    },
    {
     "cell_type": "markdown",
     "metadata": {},
     "source": [
      "##Question 1\n",
      "###E. coli Genome"
     ]
    },
    {
     "cell_type": "code",
     "collapsed": false,
     "input": [
      "seq_filename = \"Ecoli_genome.txt\"\n",
      "total_length = 0\n",
      "nucleotide = {} # create an empty dictionary\n",
      "seq_file = open(seq_filename, \"r\")\n",
      "for raw_line in seq_file:\n",
      "    line = raw_line.rstrip(\"\\r\\n\")\n",
      "    length = len(line)\n",
      "    for nuc in line:\n",
      "        if nucleotide.has_key(nuc):\n",
      "            nucleotide[nuc] += 1\n",
      "        else:\n",
      "            nucleotide[nuc] = 1\n",
      "    total_length += length\n",
      "seq_file.close()\n",
      "for n in nucleotide.keys():\n",
      "    fraction = 100.0 * nucleotide[n] / total_length\n",
      "    print \"The nucleotide {0} occurs {1} times, or {2} %\".format(n, nucleotide[n], fraction)"
     ],
     "language": "python",
     "metadata": {},
     "outputs": [
      {
       "output_type": "stream",
       "stream": "stdout",
       "text": [
        "The nucleotide A occurs 1142136 times, or 24.6191332553 %\n",
        "The nucleotide C occurs 1179433 times, or 25.423082884 %\n",
        "The nucleotide T occurs 1140877 times, or 24.5919950785 %\n",
        "The nucleotide G occurs 1176775 times, or 25.3657887822 %\n"
       ]
      }
     ],
     "prompt_number": 1
    },
    {
     "cell_type": "markdown",
     "metadata": {},
     "source": [
      "###T. volcanium genome"
     ]
    },
    {
     "cell_type": "code",
     "collapsed": false,
     "input": [
      "seq_filename = \"Tvolcanium_genome.txt\"\n",
      "total_length = 0\n",
      "nucleotide = {} # create an empty dictionary\n",
      "seq_file = open(seq_filename, \"r\")\n",
      "for raw_line in seq_file:\n",
      "    line = raw_line.rstrip(\"\\r\\n\")\n",
      "    length = len(line)\n",
      "    for nuc in line:\n",
      "        if nucleotide.has_key(nuc):\n",
      "            nucleotide[nuc] += 1\n",
      "        else:\n",
      "            nucleotide[nuc] = 1\n",
      "    total_length += length\n",
      "seq_file.close()\n",
      "for n in nucleotide.keys():\n",
      "    fraction = 100.0 * nucleotide[n] / total_length\n",
      "    print \"The nucleotide {0} occurs {1} times, or {2} %\".format(n, nucleotide[n], fraction)"
     ],
     "language": "python",
     "metadata": {},
     "outputs": [
      {
       "output_type": "stream",
       "stream": "stdout",
       "text": [
        "The nucleotide A occurs 478011 times, or 30.1621525438 %\n",
        "The nucleotide C occurs 315483 times, or 19.9067518759 %\n",
        "The nucleotide T occurs 474163 times, or 29.9193464933 %\n",
        "The nucleotide G occurs 317147 times, or 20.011749087 %\n"
       ]
      }
     ],
     "prompt_number": 2
    },
    {
     "cell_type": "markdown",
     "metadata": {},
     "source": [
      "##Question 2"
     ]
    },
    {
     "cell_type": "code",
     "collapsed": false,
     "input": [
      "seq_filename = \"Ecoli_genome.txt\"\n",
      "total_length = 0\n",
      "dinuc = {} # create an empty dictionary\n",
      "seq_file = open(seq_filename, \"r\")\n",
      "for raw_line in seq_file:\n",
      "    line = raw_line.rstrip(\"\\r\\n\")\n",
      "    length = len(line)-1\n",
      "    for count in range(length):\n",
      "        di = line[count] + line[count+1]\n",
      "        if dinuc.has_key(di):\n",
      "            dinuc[di] += 1\n",
      "        else:\n",
      "            dinuc[di] = 1\n",
      "    total_length += length+1\n",
      "seq_file.close()\n",
      "for n in dinuc.keys():\n",
      "    fraction = 100.0 * dinuc[n] / total_length\n",
      "    print \"The nucleotide {0} occurs {1} times, or {2} %\".format(n, dinuc[n], fraction)"
     ],
     "language": "python",
     "metadata": {},
     "outputs": [
      {
       "output_type": "stream",
       "stream": "stdout",
       "text": [
        "The nucleotide AA occurs 332118 times, or 7.15891741307 %\n",
        "The nucleotide AC occurs 252453 times, or 5.4417110114 %\n",
        "The nucleotide GT occurs 251353 times, or 5.41800013407 %\n",
        "The nucleotide AG occurs 233931 times, or 5.04246294798 %\n",
        "The nucleotide CC occurs 267204 times, or 5.75967387628 %\n",
        "The nucleotide CA occurs 319634 times, or 6.88982051081 %\n",
        "The nucleotide CG occurs 340863 times, or 7.34741888778 %\n",
        "The nucleotide TC occurs 262839 times, or 5.665584804 %\n",
        "The nucleotide GG occurs 265736 times, or 5.72803063273 %\n",
        "The nucleotide GC occurs 377519 times, or 8.13755154152 %\n",
        "The nucleotide AT occurs 304469 times, or 6.56293373392 %\n",
        "The nucleotide GA occurs 262744 times, or 5.66353704641 %\n",
        "The nucleotide TG occurs 316820 times, or 6.82916377556 %\n",
        "The nucleotide TA occurs 208443 times, or 4.49306036509 %\n",
        "The nucleotide TT occurs 333795 times, or 7.19506572332 %\n",
        "The nucleotide CT occurs 231979 times, or 5.00038691841 %\n"
       ]
      }
     ],
     "prompt_number": 3
    },
    {
     "cell_type": "markdown",
     "metadata": {},
     "source": [
      "##Question 3"
     ]
    },
    {
     "cell_type": "code",
     "collapsed": false,
     "input": [
      "seq_filename = \"Tvolcanium_genome.txt\"\n",
      "total_length = 0\n",
      "dinuc = {} # create an empty dictionary\n",
      "seq_file = open(seq_filename, \"r\")\n",
      "for raw_line in seq_file:\n",
      "    line = raw_line.rstrip(\"\\r\\n\")\n",
      "    length = len(line)-1\n",
      "    for count in range(length):\n",
      "        di = line[count] + line[count+1]\n",
      "        if dinuc.has_key(di):\n",
      "            dinuc[di] += 1\n",
      "        else:\n",
      "            dinuc[di] = 1\n",
      "    total_length += length+1\n",
      "seq_file.close()\n",
      "for n in dinuc.keys():\n",
      "    fraction = 100.0 * dinuc[n] / total_length\n",
      "    print \"The nucleotide {0} occurs {1} times, or {2} %\".format(n, dinuc[n], fraction)"
     ],
     "language": "python",
     "metadata": {},
     "outputs": [
      {
       "output_type": "stream",
       "stream": "stdout",
       "text": [
        "The nucleotide AA occurs 147554 times, or 9.31055196731 %\n",
        "The nucleotide AC occurs 73712 times, or 4.6511745301 %\n",
        "The nucleotide GT occurs 72696 times, or 4.58706565607 %\n",
        "The nucleotide AG occurs 98049 times, or 6.18682184043 %\n",
        "The nucleotide CC occurs 68673 times, or 4.33321723065 %\n",
        "The nucleotide TT occurs 145471 times, or 9.17911615569 %\n",
        "The nucleotide CG occurs 51516 times, or 3.25062278995 %\n",
        "The nucleotide GG occurs 70129 times, or 4.42508979028 %\n",
        "The nucleotide GC occurs 69438 times, or 4.38148818403 %\n",
        "The nucleotide AT occurs 150772 times, or 9.51360546793 %\n",
        "The nucleotide GA occurs 99536 times, or 6.28065047791 %\n",
        "The nucleotide TG occurs 92176 times, or 5.8162397369 %\n",
        "The nucleotide CT occurs 97273 times, or 6.13785679491 %\n",
        "The nucleotide CA occurs 92706 times, or 5.8496823582 %\n",
        "The nucleotide TC occurs 98373 times, or 6.20726600892 %\n",
        "The nucleotide TA occurs 130316 times, or 8.22284648449 %\n"
       ]
      }
     ],
     "prompt_number": 4
    },
    {
     "cell_type": "markdown",
     "metadata": {},
     "source": [
      "##Question 4"
     ]
    },
    {
     "cell_type": "code",
     "collapsed": false,
     "input": [
      "#Same as problem 1 just with saves the percentages into a dictionary\n",
      "seq_filename = \"Ecoli_genome.txt\"\n",
      "total_length = 0\n",
      "nucleotide = {} # create an empty dictionary\n",
      "seq_file = open(seq_filename, \"r\")\n",
      "for raw_line in seq_file:\n",
      "    line = raw_line.rstrip(\"\\r\\n\")\n",
      "    length = len(line)\n",
      "    for nuc in line:\n",
      "        if nucleotide.has_key(nuc):\n",
      "            nucleotide[nuc] += 1\n",
      "        else:\n",
      "            nucleotide[nuc] = 1\n",
      "    total_length += length\n",
      "seq_file.close()\n",
      "\n",
      "percent= {}\n",
      "for n in nucleotide.keys():\n",
      "    fraction = nucleotide[n] / float(total_length)\n",
      "    percent[n]=fraction\n",
      "print(percent)"
     ],
     "language": "python",
     "metadata": {},
     "outputs": [
      {
       "output_type": "stream",
       "stream": "stdout",
       "text": [
        "{'A': 0.246191332553461, 'C': 0.2542308288395832, 'T': 0.24591995078484083, 'G': 0.25365788782211496}\n"
       ]
      }
     ],
     "prompt_number": 5
    },
    {
     "cell_type": "code",
     "collapsed": false,
     "input": [
      "#calculate expected frequencies\n",
      "specDi = {}\n",
      "for n in percent.keys():\n",
      "    for n2 in percent.keys():\n",
      "        di = n + n2\n",
      "        specDi[di]= percent[n]*percent[n2]*100\n",
      "print(specDi)"
     ],
     "language": "python",
     "metadata": {},
     "outputs": [
      {
       "output_type": "stream",
       "stream": "stdout",
       "text": [
        "{'AA': 6.0610172224448835, 'AC': 6.258942652818786, 'GT': 6.2379535289401185, 'AG': 6.244837341562281, 'CC': 6.463331433246145, 'CA': 6.258942652818786, 'CG': 6.44876550627143, 'TT': 6.047662219401854, 'GG': 6.434232405437666, 'GC': 6.44876550627143, 'AT': 6.054336038520152, 'GA': 6.244837341562281, 'TG': 6.2379535289401185, 'TA': 6.054336038520152, 'TC': 6.252043291621959, 'CT': 6.252043291621959}\n"
       ]
      }
     ],
     "prompt_number": 6
    },
    {
     "cell_type": "code",
     "collapsed": false,
     "input": [
      "seq_filename = \"Ecoli_genome.txt\"\n",
      "total_length = 0\n",
      "nucleotide = {} # create an empty dictionary\n",
      "seq_file = open(seq_filename, \"r\")\n",
      "for raw_line in seq_file:\n",
      "    line = raw_line.rstrip(\"\\r\\n\")\n",
      "    length = len(line)\n",
      "    for nuc in line:\n",
      "        if nucleotide.has_key(nuc):\n",
      "            nucleotide[nuc] += 1\n",
      "        else:\n",
      "            nucleotide[nuc] = 1\n",
      "    total_length += length\n",
      "seq_file.close()\n",
      "\n",
      "\n",
      "for n in nucleotide.keys():\n",
      "    fraction = 100.0 * nucleotide[n] / total_length\n",
      "    print \"The nucleotide {0} occurs {1} times, or {2} %\".format(n, nucleotide[n], fraction)"
     ],
     "language": "python",
     "metadata": {},
     "outputs": [
      {
       "output_type": "stream",
       "stream": "stdout",
       "text": [
        "The nucleotide A occurs 1142136 times, or 24.6191332553 %\n",
        "The nucleotide C occurs 1179433 times, or 25.423082884 %\n",
        "The nucleotide T occurs 1140877 times, or 24.5919950785 %\n",
        "The nucleotide G occurs 1176775 times, or 25.3657887822 %\n"
       ]
      }
     ],
     "prompt_number": 7
    },
    {
     "cell_type": "code",
     "collapsed": false,
     "input": [
      "#Same as question 2 just saves the frequencies in a dictionary\n",
      "seq_filename = \"Ecoli_genome.txt\"\n",
      "total_length = 0\n",
      "dinuc = {} # create an empty dictionary\n",
      "seq_file = open(seq_filename, \"r\")\n",
      "for raw_line in seq_file:\n",
      "    line = raw_line.rstrip(\"\\r\\n\")\n",
      "    length = len(line)-1\n",
      "    for count in range(length):\n",
      "        di = line[count] + line[count+1]\n",
      "        if dinuc.has_key(di):\n",
      "            dinuc[di] += 1\n",
      "        else:\n",
      "            dinuc[di] = 1\n",
      "    total_length += length+1\n",
      "seq_file.close()\n",
      "\n",
      "percentDi_ecoli= {}\n",
      "for n in dinuc.keys():\n",
      "    fraction = 100*dinuc[n] / float(total_length)\n",
      "    percentDi_ecoli[n]=fraction\n",
      "print(percentDi_ecoli)"
     ],
     "language": "python",
     "metadata": {},
     "outputs": [
      {
       "output_type": "stream",
       "stream": "stdout",
       "text": [
        "{'AA': 7.158917413074307, 'AC': 5.4417110113960945, 'GT': 5.418000134074234, 'AG': 5.042462947981999, 'CC': 5.759673876282246, 'CA': 6.889820510814208, 'CG': 7.3474188877831, 'TT': 7.195065723318635, 'GG': 5.728030632729072, 'GC': 8.137551541519578, 'AT': 6.562933733917828, 'GA': 5.663537046413611, 'TG': 6.829163775556284, 'CT': 5.000386918407207, 'TC': 5.665584804000499, 'TA': 4.493060365091467}\n"
       ]
      }
     ],
     "prompt_number": 12
    },
    {
     "cell_type": "code",
     "collapsed": false,
     "input": [
      "linex= [6,6.5]\n",
      "liney= [6,6.5]\n",
      "for i in specDi.keys():\n",
      "    plot(specDi[i],percentDi_ecoli[i],'o')\n",
      "plot(linex,liney,':')\n",
      "xlabel(\"expected frequency based on single nucleotide frequencies\")\n",
      "ylabel(\"emperical frequency of dinucleotides\")"
     ],
     "language": "python",
     "metadata": {},
     "outputs": [
      {
       "output_type": "pyout",
       "prompt_number": 25,
       "text": [
        "<matplotlib.text.Text at 0x10abb5c10>"
       ]
      },
      {
       "output_type": "display_data",
       "png": "[encoded data removed]"
      }
     ],
     "prompt_number": 25
    },
    {
     "cell_type": "markdown",
     "metadata": {},
     "source": [
      "###There are no nucleotides that fall exactly where they are predicted to, there is a number of slightly over and under represented dinucleotides. This could be because of codon usage bias"
     ]
    },
    {
     "cell_type": "markdown",
     "metadata": {},
     "source": [
      "##Question 5"
     ]
    },
    {
     "cell_type": "code",
     "collapsed": false,
     "input": [
      "seq_filenames = [\"Mgene1.txt\",\"Mgene2.txt\",\"Mgene3.txt\"]\n",
      "for seq_filename in seq_filenames:\n",
      "    total_length = 0\n",
      "    dinuc = {} # create an empty dictionary\n",
      "    seq_file = open(seq_filename, \"r\")\n",
      "    for raw_line in seq_file:\n",
      "        line = raw_line.rstrip(\"\\r\\n\")\n",
      "        length = len(line)-1\n",
      "        for count in range(length):\n",
      "            di = line[count] + line[count+1]\n",
      "            if dinuc.has_key(di):\n",
      "                dinuc[di] += 1\n",
      "            else:\n",
      "                dinuc[di] = 1\n",
      "        total_length += length+1\n",
      "    seq_file.close()\n",
      "    \n",
      "    if seq_filename ==\"Mgene1.txt\":\n",
      "        mgene1 = {}\n",
      "        for n in dinuc.keys():\n",
      "            fraction = 100.0 * dinuc[n] / total_length\n",
      "            mgene1[n]=fraction\n",
      "    elif seq_filename ==\"Mgene2.txt\":\n",
      "        mgene2 ={}\n",
      "        for n in dinuc.keys():\n",
      "            fraction = 100.0 * dinuc[n] / total_length\n",
      "            mgene2[n]=fraction\n",
      "    else:\n",
      "        mgene3={}\n",
      "        for n in dinuc.keys():\n",
      "            fraction = 100.0 * dinuc[n] / total_length\n",
      "            mgene3[n]=fraction\n",
      "print(mgene1,mgene2,mgene3)"
     ],
     "language": "python",
     "metadata": {},
     "outputs": [
      {
       "output_type": "stream",
       "stream": "stdout",
       "text": [
        "({'AA': 7.145, 'AC': 5.225, 'GT': 5.735, 'AG': 5.078333333333333, 'CC': 4.993333333333333, 'TT': 7.321666666666666, 'CG': 7.3133333333333335, 'GG': 5.988333333333333, 'GC': 8.116666666666667, 'AT': 6.56, 'GA': 5.713333333333333, 'TG': 7.191666666666666, 'TA': 4.568333333333333, 'CA': 6.611666666666666, 'TC': 5.668333333333333, 'CT': 5.1033333333333335}, {'AA': 9.441666666666666, 'AC': 4.823333333333333, 'GT': 4.266666666666667, 'AG': 6.2316666666666665, 'CC': 4.443333333333333, 'TT': 8.76, 'CG': 3.4716666666666667, 'TC': 6.238333333333333, 'GG': 4.261666666666667, 'GC': 4.466666666666667, 'AT': 9.595, 'GA': 6.491666666666666, 'TG': 5.5633333333333335, 'CT': 6.076666666666667, 'CA': 6.015, 'TA': 8.186666666666667}, {'AA': 10.315, 'AC': 4.5216666666666665, 'GT': 4.53, 'AG': 6.901666666666666, 'CC': 3.5516666666666667, 'TT': 8.583333333333334, 'CG': 3.1866666666666665, 'TC': 5.583333333333333, 'GG': 4.835, 'GC': 4.236666666666666, 'AT': 9.665, 'GA': 7.078333333333333, 'TG': 5.733333333333333, 'TA': 8.488333333333333, 'CA': 5.528333333333333, 'CT': 5.595})\n"
       ]
      }
     ],
     "prompt_number": 38
    },
    {
     "cell_type": "code",
     "collapsed": false,
     "input": [
      "#empirical frequencies for T. volc. I have the ecoli already from before\n",
      "#Same as question 2 just saves the frequencies in a dictionary\n",
      "seq_filename = \"Tvolcanium_genome.txt\"\n",
      "total_length = 0\n",
      "dinuc = {} # create an empty dictionary\n",
      "seq_file = open(seq_filename, \"r\")\n",
      "for raw_line in seq_file:\n",
      "    line = raw_line.rstrip(\"\\r\\n\")\n",
      "    length = len(line)-1\n",
      "    for count in range(length):\n",
      "        di = line[count] + line[count+1]\n",
      "        if dinuc.has_key(di):\n",
      "            dinuc[di] += 1\n",
      "        else:\n",
      "            dinuc[di] = 1\n",
      "    total_length += length+1\n",
      "seq_file.close()\n",
      "\n",
      "percentDi_volc= {}\n",
      "for n in dinuc.keys():\n",
      "    fraction = 100*dinuc[n] / float(total_length)\n",
      "    percentDi_volc[n]=fraction\n",
      "print(percentDi_volc)"
     ],
     "language": "python",
     "metadata": {},
     "outputs": [
      {
       "output_type": "stream",
       "stream": "stdout",
       "text": [
        "{'AA': 9.310551967309522, 'AC': 4.651174530099621, 'GT': 4.587065656068511, 'AG': 6.186821840429479, 'CC': 4.3332172306480805, 'TT': 9.179116155688654, 'CG': 3.250622789947527, 'TC': 6.207266008919715, 'GG': 4.425089790283215, 'GC': 4.381488184027804, 'AT': 9.513605467931681, 'GA': 6.280650477913988, 'TG': 5.8162397369012195, 'TA': 8.222846484486409, 'CA': 5.849682358196976, 'CT': 6.137856794909655}\n"
       ]
      }
     ],
     "prompt_number": 39
    },
    {
     "cell_type": "markdown",
     "metadata": {},
     "source": [
      "###mgene1"
     ]
    },
    {
     "cell_type": "code",
     "collapsed": false,
     "input": [],
     "language": "python",
     "metadata": {},
     "outputs": []
    },
    {
     "cell_type": "code",
     "collapsed": false,
     "input": [
      "linex=[4.5,8.5]\n",
      "liney=[4.5,8.5]\n",
      "\n",
      "for i in mgene1.keys():\n",
      "    plot(mgene1[i],percentDi_ecoli[i],'o')\n",
      "plot(linex,liney,':')\n",
      "xlabel(\"mgene1 dinucleotide frequency\")\n",
      "ylabel(\"ecoli dinucleotide frequency\")"
     ],
     "language": "python",
     "metadata": {},
     "outputs": [
      {
       "output_type": "pyout",
       "prompt_number": 42,
       "text": [
        "<matplotlib.text.Text at 0x10a75e390>"
       ]
      },
      {
       "output_type": "display_data",
       "png": "[encoded data removed]"
      }
     ],
     "prompt_number": 42
    },
    {
     "cell_type": "code",
     "collapsed": false,
     "input": [
      "linex=[4.5,8.5]\n",
      "liney=[4.5,8.5]\n",
      "\n",
      "for i in mgene1.keys():\n",
      "    plot(mgene1[i],percentDi_volc[i],'o')\n",
      "plot(linex,liney,':')\n",
      "xlabel(\"mgene1 dinucleotide frequency\")\n",
      "ylabel(\"t. volc dinucleotide frequency\")"
     ],
     "language": "python",
     "metadata": {},
     "outputs": [
      {
       "output_type": "pyout",
       "prompt_number": 44,
       "text": [
        "<matplotlib.text.Text at 0x10a8787d0>"
       ]
      },
      {
       "output_type": "display_data",
       "png": "[encoded data removed]"
      }
     ],
     "prompt_number": 44
    },
    {
     "cell_type": "markdown",
     "metadata": {},
     "source": [
      "###M gene 1 fits much better with ecoli"
     ]
    },
    {
     "cell_type": "markdown",
     "metadata": {},
     "source": [
      "###Mgene 2"
     ]
    },
    {
     "cell_type": "code",
     "collapsed": false,
     "input": [
      "linex=[3,10]\n",
      "liney=[3,10]\n",
      "\n",
      "for i in mgene2.keys():\n",
      "    plot(mgene2[i],percentDi_ecoli[i],'o')\n",
      "plot(linex,liney,':')\n",
      "xlabel(\"mgene2 dinucleotide frequency\")\n",
      "ylabel(\"ecoli dinucleotide frequency\")"
     ],
     "language": "python",
     "metadata": {},
     "outputs": [
      {
       "output_type": "pyout",
       "prompt_number": 47,
       "text": [
        "<matplotlib.text.Text at 0x10a955990>"
       ]
      },
      {
       "output_type": "display_data",
       "png": "[encoded data removed]"
      }
     ],
     "prompt_number": 47
    },
    {
     "cell_type": "code",
     "collapsed": false,
     "input": [
      "linex=[3,10]\n",
      "liney=[3,10]\n",
      "\n",
      "for i in mgene2.keys():\n",
      "    plot(mgene2[i],percentDi_volc[i],'o')\n",
      "plot(linex,liney,':')\n",
      "xlabel(\"mgene2 dinucleotide frequency\")\n",
      "ylabel(\"tvolc dinucleotide frequency\")"
     ],
     "language": "python",
     "metadata": {},
     "outputs": [
      {
       "output_type": "pyout",
       "prompt_number": 48,
       "text": [
        "<matplotlib.text.Text at 0x10ab15d50>"
       ]
      },
      {
       "output_type": "display_data",
       "png": "[encoded data removed]"
      }
     ],
     "prompt_number": 48
    },
    {
     "cell_type": "markdown",
     "metadata": {},
     "source": [
      "###M gene 2 fits much better with T. volcanium"
     ]
    },
    {
     "cell_type": "code",
     "collapsed": false,
     "input": [
      "linex=[3,11]\n",
      "liney=[3,11]\n",
      "\n",
      "for i in mgene3.keys():\n",
      "    plot(mgene3[i],percentDi_ecoli[i],'o')\n",
      "plot(linex,liney,':')\n",
      "xlabel(\"mgene3 dinucleotide frequency\")\n",
      "ylabel(\"ecoli dinucleotide frequency\")"
     ],
     "language": "python",
     "metadata": {},
     "outputs": [
      {
       "output_type": "pyout",
       "prompt_number": 52,
       "text": [
        "<matplotlib.text.Text at 0x10cf96f10>"
       ]
      },
      {
       "output_type": "display_data",
       "png": "[encoded data removed]"
      }
     ],
     "prompt_number": 52
    },
    {
     "cell_type": "code",
     "collapsed": false,
     "input": [
      "linex=[3,11]\n",
      "liney=[3,11]\n",
      "\n",
      "for i in mgene3.keys():\n",
      "    plot(mgene3[i],percentDi_volc[i],'o')\n",
      "plot(linex,liney,':')\n",
      "xlabel(\"mgene3 dinucleotide frequency\")\n",
      "ylabel(\"tvolc dinucleotide frequency\")"
     ],
     "language": "python",
     "metadata": {},
     "outputs": [
      {
       "output_type": "pyout",
       "prompt_number": 53,
       "text": [
        "<matplotlib.text.Text at 0x10d082190>"
       ]
      },
      {
       "output_type": "display_data",
       "png": "[encoded data removed]"
      }
     ],
     "prompt_number": 53
    },
    {
     "cell_type": "markdown",
     "metadata": {},
     "source": [
      "###Mgene 3 fits better with T. volcanium"
     ]
    },
    {
     "cell_type": "markdown",
     "metadata": {},
     "source": [
      "##Question 6"
     ]
    },
    {
     "cell_type": "code",
     "collapsed": false,
     "input": [
      "#T. volcanium genome\n",
      "Tvolc_total_nuc=(1611218-26414)\n",
      "print(Tvolc_total_nuc)"
     ],
     "language": "python",
     "metadata": {},
     "outputs": [
      {
       "output_type": "stream",
       "stream": "stdout",
       "text": [
        "1584804\n"
       ]
      }
     ],
     "prompt_number": 68
    },
    {
     "cell_type": "code",
     "collapsed": false,
     "input": [
      "#E. coli genome\n",
      "ecoli_total_nuc=(4716542-77321)\n",
      "print(ecoli_total_nuc)"
     ],
     "language": "python",
     "metadata": {},
     "outputs": [
      {
       "output_type": "stream",
       "stream": "stdout",
       "text": [
        "4639221\n"
       ]
      }
     ],
     "prompt_number": 69
    },
    {
     "cell_type": "code",
     "collapsed": false,
     "input": [
      "# T. volcanium hard disk space\n",
      "tvolcHard = 1611218\n",
      "print(tvolcHard)"
     ],
     "language": "python",
     "metadata": {},
     "outputs": [
      {
       "output_type": "stream",
       "stream": "stdout",
       "text": [
        "1611218\n"
       ]
      }
     ],
     "prompt_number": 71
    },
    {
     "cell_type": "code",
     "collapsed": false,
     "input": [
      "#Ecoli hard disk space\n",
      "ecoliHard = 4716542\n",
      "print(ecoliHard)"
     ],
     "language": "python",
     "metadata": {},
     "outputs": [
      {
       "output_type": "stream",
       "stream": "stdout",
       "text": [
        "4716542\n"
       ]
      }
     ],
     "prompt_number": 73
    },
    {
     "cell_type": "code",
     "collapsed": false,
     "input": [
      "fraction= float(Tvolc_total_nuc)/tvolcHard\n",
      "print \"The t. volcanium genome is {0} bases and and uses {1} bytes of hard disk space, for a total of {2} bases per byte\".format(Tvolc_total_nuc, tvolcHard,fraction)"
     ],
     "language": "python",
     "metadata": {},
     "outputs": [
      {
       "output_type": "stream",
       "stream": "stdout",
       "text": [
        "The t. volcanium genome is 1584804 bases and and uses 1611218 bytes of hard disk space, for a total of 0.983606191093 bases per byte\n"
       ]
      }
     ],
     "prompt_number": 78
    },
    {
     "cell_type": "code",
     "collapsed": false,
     "input": [
      "fraction= float(ecoli_total_nuc)/ecoliHard\n",
      "print \"The E. coli genome is {0} bases and and uses {1} bytes of hard disk space, for a total of {2} bases per byte\".format(ecoli_total_nuc, ecoliHard,fraction)"
     ],
     "language": "python",
     "metadata": {},
     "outputs": [
      {
       "output_type": "stream",
       "stream": "stdout",
       "text": [
        "The E. coli genome is 4639221 bases and and uses 4716542 bytes of hard disk space, for a total of 0.983606421823 bases per byte\n"
       ]
      }
     ],
     "prompt_number": 79
    },
    {
     "cell_type": "markdown",
     "metadata": {},
     "source": [
      "##Question 8\n",
      "### part 1 Can you store a human genome on 8 GB?"
     ]
    },
    {
     "cell_type": "markdown",
     "metadata": {},
     "source": [
      "####Human genome is about 6 gigabases (wikipedia). Therefore you should be able to fit it given 6/.98 = 6.12 gigabytes"
     ]
    },
    {
     "cell_type": "markdown",
     "metadata": {},
     "source": [
      "###Part 2 How many times can a human genome fit on 1 tb"
     ]
    },
    {
     "cell_type": "code",
     "collapsed": false,
     "input": [
      "tb=10**12\n",
      "human=6.12*10**9\n",
      "print(tb/float(human))"
     ],
     "language": "python",
     "metadata": {},
     "outputs": [
      {
       "output_type": "stream",
       "stream": "stdout",
       "text": [
        "163.39869281\n"
       ]
      }
     ],
     "prompt_number": 89
    },
    {
     "cell_type": "markdown",
     "metadata": {},
     "source": [
      "####about 163 times"
     ]
    },
    {
     "cell_type": "markdown",
     "metadata": {},
     "source": [
      "### Part 3 How much space for everyone in austin\n",
      "#### Population of austin =820,611 people (wikipedia 2011)"
     ]
    },
    {
     "cell_type": "code",
     "collapsed": false,
     "input": [
      "atxpop=820611\n",
      "human=6.12\n",
      "space=atxpop*human\n",
      "print(space/1000.0)"
     ],
     "language": "python",
     "metadata": {},
     "outputs": [
      {
       "output_type": "stream",
       "stream": "stdout",
       "text": [
        "5022.13932\n"
       ]
      }
     ],
     "prompt_number": 94
    },
    {
     "cell_type": "markdown",
     "metadata": {},
     "source": [
      "####about 5,000 terabytes"
     ]
    },
    {
     "cell_type": "markdown",
     "metadata": {},
     "source": [
      "##Question 9"
     ]
    },
    {
     "cell_type": "code",
     "collapsed": false,
     "input": [
      "#print(ecoli_total_nuc)\n",
      "human_total_nuc=6*10**9\n",
      "#print(human_total_nuc)\n",
      "ecoli_density=4500/float(ecoli_total_nuc)\n",
      "human_density=25000/float(human_total_nuc)\n",
      "#print(\"humans\",human_density)\n",
      "#print(\"ecoli\",ecoli_density) # genes per nucleotide\n",
      "print \"the human genome has a density of {0} genes per nucleotide\".format(human_density)\n",
      "print \"the e. coli genome has a density of {0} genes per nucleotide\".format(ecoli_density)"
     ],
     "language": "python",
     "metadata": {},
     "outputs": [
      {
       "output_type": "stream",
       "stream": "stdout",
       "text": [
        "the human genome has a density of 4.16666666667e-06 genes per nucleotide\n",
        "the e. coli genome has a density of 0.000969990435894 genes per nucleotide\n"
       ]
      }
     ],
     "prompt_number": 104
    },
    {
     "cell_type": "markdown",
     "metadata": {},
     "source": [
      "##Question 10\n",
      "### To me it looks like both C, W, and P have many negative values making them unlikely to be substituted. Also W with itself has a value of 15 which is the highest in the matrix so the answer is W, I think."
     ]
    },
    {
     "cell_type": "markdown",
     "metadata": {},
     "source": [
      "##Question 11\n",
      "### Looking for amino acids in the table that have many 0's and/or positive values, it looks like R, Q, E, M have the most. To better answer the question one could simply sum the columns of the matrix (ignoring the diagnoal) and pick the one with the highest values"
     ]
    },
    {
     "cell_type": "markdown",
     "metadata": {},
     "source": [
      "##Question 12\n",
      "###There are several substitutions which get a -5 in the table which the lowest score I can find. These are typically substituting a hydrophobic with a hydrophillic amino acid, for example F with D."
     ]
    },
    {
     "cell_type": "markdown",
     "metadata": {},
     "source": [
      "##Question 13"
     ]
    },
    {
     "cell_type": "code",
     "collapsed": false,
     "input": [
      "charged=[2,-1,1]\n",
      "chargMean=mean(charged)\n",
      "print(chargMean)\n",
      "noncharged=[4,1,2]\n",
      "nonChargMean=mean(noncharged)\n",
      "print(nonChargMean)\n",
      "between=[-4,-4,-4,-3,-4,-3,-3,-3,-3]\n",
      "print(mean(between))"
     ],
     "language": "python",
     "metadata": {},
     "outputs": [
      {
       "output_type": "stream",
       "stream": "stdout",
       "text": [
        "0.666666666667\n",
        "2.33333333333\n",
        "-3.44444444444\n"
       ]
      }
     ],
     "prompt_number": 114
    },
    {
     "cell_type": "markdown",
     "metadata": {},
     "source": [
      "###the between group mean (-3.44) is much lower than either of the within group means (.66 and 2.33 for charged and uncharged respectivly). This is probably because changing the charge of the amino acid at a particular site results in changes in the shape of the protien and would be a very big mutation while if the charge remains the same it may not change the protien structure as much."
     ]
    },
    {
     "cell_type": "code",
     "collapsed": false,
     "input": [],
     "language": "python",
     "metadata": {},
     "outputs": []
    }
   ],
   "metadata": {}
  }
 ]
}